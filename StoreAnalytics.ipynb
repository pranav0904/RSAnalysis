{
 "cells": [
  {
   "cell_type": "markdown",
   "metadata": {},
   "source": [
    "## Business Analytics"
   ]
  },
  {
   "cell_type": "code",
   "execution_count": 1,
   "metadata": {},
   "outputs": [],
   "source": [
    "import pandas as pd\n",
    "import numpy as np\n",
    "import matplotlib.pyplot as plt\n",
    "%matplotlib inline"
   ]
  },
  {
   "cell_type": "code",
   "execution_count": 2,
   "metadata": {},
   "outputs": [
    {
     "data": {
      "text/html": [
       "<div>\n",
       "<style scoped>\n",
       "    .dataframe tbody tr th:only-of-type {\n",
       "        vertical-align: middle;\n",
       "    }\n",
       "\n",
       "    .dataframe tbody tr th {\n",
       "        vertical-align: top;\n",
       "    }\n",
       "\n",
       "    .dataframe thead th {\n",
       "        text-align: right;\n",
       "    }\n",
       "</style>\n",
       "<table border=\"1\" class=\"dataframe\">\n",
       "  <thead>\n",
       "    <tr style=\"text-align: right;\">\n",
       "      <th></th>\n",
       "      <th>STORE_ID</th>\n",
       "      <th>FAMILY_DESC</th>\n",
       "      <th>YEAR</th>\n",
       "      <th>MONTH</th>\n",
       "      <th>SALES_UNITS</th>\n",
       "      <th>SALES_TESP</th>\n",
       "      <th>SALES_TISP</th>\n",
       "      <th>GROSS_MARGIN</th>\n",
       "      <th>SPACE</th>\n",
       "      <th>NDSA</th>\n",
       "      <th>TXNS</th>\n",
       "      <th>FORMAT</th>\n",
       "      <th>SUMOFPOPULATION</th>\n",
       "      <th>TOTAL_SPACE</th>\n",
       "      <th>TOTAL_TISP</th>\n",
       "      <th>Region</th>\n",
       "    </tr>\n",
       "  </thead>\n",
       "  <tbody>\n",
       "    <tr>\n",
       "      <th>0</th>\n",
       "      <td>10</td>\n",
       "      <td>Basic Sun Preparations</td>\n",
       "      <td>2007</td>\n",
       "      <td>2</td>\n",
       "      <td>276</td>\n",
       "      <td>1154.37</td>\n",
       "      <td>1356.44</td>\n",
       "      <td>592.81</td>\n",
       "      <td>18</td>\n",
       "      <td>777</td>\n",
       "      <td>68936</td>\n",
       "      <td>Convenience</td>\n",
       "      <td>525825</td>\n",
       "      <td>442.0</td>\n",
       "      <td>94679.84</td>\n",
       "      <td>3</td>\n",
       "    </tr>\n",
       "    <tr>\n",
       "      <th>1</th>\n",
       "      <td>10</td>\n",
       "      <td>Basic Sun Preparations</td>\n",
       "      <td>2007</td>\n",
       "      <td>3</td>\n",
       "      <td>268</td>\n",
       "      <td>1074.10</td>\n",
       "      <td>1262.13</td>\n",
       "      <td>517.88</td>\n",
       "      <td>18</td>\n",
       "      <td>777</td>\n",
       "      <td>68936</td>\n",
       "      <td>Convenience</td>\n",
       "      <td>525825</td>\n",
       "      <td>442.0</td>\n",
       "      <td>94679.84</td>\n",
       "      <td>3</td>\n",
       "    </tr>\n",
       "    <tr>\n",
       "      <th>2</th>\n",
       "      <td>10</td>\n",
       "      <td>Basic Sun Preparations</td>\n",
       "      <td>2007</td>\n",
       "      <td>4</td>\n",
       "      <td>310</td>\n",
       "      <td>1205.60</td>\n",
       "      <td>1416.68</td>\n",
       "      <td>597.74</td>\n",
       "      <td>18</td>\n",
       "      <td>777</td>\n",
       "      <td>68936</td>\n",
       "      <td>Convenience</td>\n",
       "      <td>525825</td>\n",
       "      <td>442.0</td>\n",
       "      <td>94679.84</td>\n",
       "      <td>3</td>\n",
       "    </tr>\n",
       "    <tr>\n",
       "      <th>3</th>\n",
       "      <td>10</td>\n",
       "      <td>Basic Sun Preparations</td>\n",
       "      <td>2007</td>\n",
       "      <td>1</td>\n",
       "      <td>299</td>\n",
       "      <td>1253.21</td>\n",
       "      <td>1472.53</td>\n",
       "      <td>679.61</td>\n",
       "      <td>18</td>\n",
       "      <td>777</td>\n",
       "      <td>68936</td>\n",
       "      <td>Convenience</td>\n",
       "      <td>525825</td>\n",
       "      <td>442.0</td>\n",
       "      <td>94679.84</td>\n",
       "      <td>3</td>\n",
       "    </tr>\n",
       "    <tr>\n",
       "      <th>4</th>\n",
       "      <td>10</td>\n",
       "      <td>Basic Sun Preparations</td>\n",
       "      <td>2007</td>\n",
       "      <td>6</td>\n",
       "      <td>714</td>\n",
       "      <td>2820.43</td>\n",
       "      <td>3314.06</td>\n",
       "      <td>1306.18</td>\n",
       "      <td>18</td>\n",
       "      <td>777</td>\n",
       "      <td>68936</td>\n",
       "      <td>Convenience</td>\n",
       "      <td>525825</td>\n",
       "      <td>442.0</td>\n",
       "      <td>94679.84</td>\n",
       "      <td>3</td>\n",
       "    </tr>\n",
       "  </tbody>\n",
       "</table>\n",
       "</div>"
      ],
      "text/plain": [
       "   STORE_ID             FAMILY_DESC  YEAR  MONTH  SALES_UNITS  SALES_TESP  \\\n",
       "0        10  Basic Sun Preparations  2007      2          276     1154.37   \n",
       "1        10  Basic Sun Preparations  2007      3          268     1074.10   \n",
       "2        10  Basic Sun Preparations  2007      4          310     1205.60   \n",
       "3        10  Basic Sun Preparations  2007      1          299     1253.21   \n",
       "4        10  Basic Sun Preparations  2007      6          714     2820.43   \n",
       "\n",
       "   SALES_TISP  GROSS_MARGIN  SPACE  NDSA   TXNS       FORMAT  SUMOFPOPULATION  \\\n",
       "0     1356.44        592.81     18   777  68936  Convenience           525825   \n",
       "1     1262.13        517.88     18   777  68936  Convenience           525825   \n",
       "2     1416.68        597.74     18   777  68936  Convenience           525825   \n",
       "3     1472.53        679.61     18   777  68936  Convenience           525825   \n",
       "4     3314.06       1306.18     18   777  68936  Convenience           525825   \n",
       "\n",
       "   TOTAL_SPACE  TOTAL_TISP  Region  \n",
       "0        442.0    94679.84       3  \n",
       "1        442.0    94679.84       3  \n",
       "2        442.0    94679.84       3  \n",
       "3        442.0    94679.84       3  \n",
       "4        442.0    94679.84       3  "
      ]
     },
     "execution_count": 2,
     "metadata": {},
     "output_type": "execute_result"
    }
   ],
   "source": [
    "data = pd.read_excel(\"Store data.xlsx\")\n",
    "data.head()"
   ]
  },
  {
   "cell_type": "markdown",
   "metadata": {},
   "source": [
    " "
   ]
  },
  {
   "cell_type": "markdown",
   "metadata": {},
   "source": [
    "__Total Store formats:__"
   ]
  },
  {
   "cell_type": "code",
   "execution_count": 3,
   "metadata": {},
   "outputs": [
    {
     "data": {
      "text/plain": [
       "array(['Convenience', 'Chemist', 'Destination'], dtype=object)"
      ]
     },
     "execution_count": 3,
     "metadata": {},
     "output_type": "execute_result"
    }
   ],
   "source": [
    "data['FORMAT'].unique()"
   ]
  },
  {
   "cell_type": "markdown",
   "metadata": {},
   "source": [
    " __The total tax-included sales of store #19:__"
   ]
  },
  {
   "cell_type": "code",
   "execution_count": 4,
   "metadata": {},
   "outputs": [
    {
     "name": "stdout",
     "output_type": "stream",
     "text": [
      "Total tax-included sales of store #19 is  8557.75\n"
     ]
    }
   ],
   "source": [
    "SALES_TISP_19 = data[data['STORE_ID']==19]['SALES_TISP']\n",
    "print('Total tax-included sales of store #19 is ',sum(SALES_TISP_19))"
   ]
  },
  {
   "cell_type": "code",
   "execution_count": 5,
   "metadata": {},
   "outputs": [
    {
     "name": "stdout",
     "output_type": "stream",
     "text": [
      "Total Stores available  113\n"
     ]
    }
   ],
   "source": [
    "stores = data['STORE_ID'].unique()\n",
    "print('Total Stores available ',len(stores))"
   ]
  },
  {
   "cell_type": "markdown",
   "metadata": {},
   "source": [
    "__Stores in this dataset do not have 12 months of data__"
   ]
  },
  {
   "cell_type": "code",
   "execution_count": 6,
   "metadata": {},
   "outputs": [
    {
     "name": "stdout",
     "output_type": "stream",
     "text": [
      "Total Stores in this dataset do not have 12 months of data is  54\n"
     ]
    }
   ],
   "source": [
    "count = 0\n",
    "for i in stores:\n",
    "    if len(data[data['STORE_ID']==i]) != 12:\n",
    "        count += 1\n",
    "print(\"Total Stores in this dataset do not have 12 months of data is \", count)"
   ]
  },
  {
   "cell_type": "markdown",
   "metadata": {},
   "source": [
    "__Rename the regions as:<br> \n",
    "1 -> South, <br>\n",
    "2 -> Pacific, <br>\n",
    "3 -> Mid-Atlantic__<br>"
   ]
  },
  {
   "cell_type": "code",
   "execution_count": 7,
   "metadata": {},
   "outputs": [],
   "source": [
    "data['Region'] = data['Region'].replace(1,'South')\n",
    "data['Region'] = data['Region'].replace(2,'Pacific')\n",
    "data['Region'] = data['Region'].replace(3,'Mid-Atlantic')"
   ]
  },
  {
   "cell_type": "code",
   "execution_count": 8,
   "metadata": {},
   "outputs": [
    {
     "data": {
      "text/plain": [
       "array(['Mid-Atlantic', 'Pacific', 'South'], dtype=object)"
      ]
     },
     "execution_count": 8,
     "metadata": {},
     "output_type": "execute_result"
    }
   ],
   "source": [
    "data['Region'].unique()"
   ]
  },
  {
   "cell_type": "markdown",
   "metadata": {},
   "source": [
    " "
   ]
  },
  {
   "cell_type": "markdown",
   "metadata": {},
   "source": [
    "__Add the following columns:__ <br>\n",
    "__1: Average Price - (Sales_Tisp/Sales_Units) <br>\n",
    "2: Space Yield - (Sales_Tisp/Space) <br>\n",
    "3: NDSA Yield - (Sales_Tisp/NDSA)__ <br>"
   ]
  },
  {
   "cell_type": "code",
   "execution_count": 9,
   "metadata": {},
   "outputs": [],
   "source": [
    "data['Average Price'] = data['SALES_TISP']/data['SALES_UNITS']\n",
    "data['Space Yield'] = data['SALES_TISP']/data['SPACE']\n",
    "data['NDSA Yield'] = data['SALES_TISP']/data['NDSA']"
   ]
  },
  {
   "cell_type": "code",
   "execution_count": 10,
   "metadata": {},
   "outputs": [
    {
     "data": {
      "text/html": [
       "<div>\n",
       "<style scoped>\n",
       "    .dataframe tbody tr th:only-of-type {\n",
       "        vertical-align: middle;\n",
       "    }\n",
       "\n",
       "    .dataframe tbody tr th {\n",
       "        vertical-align: top;\n",
       "    }\n",
       "\n",
       "    .dataframe thead th {\n",
       "        text-align: right;\n",
       "    }\n",
       "</style>\n",
       "<table border=\"1\" class=\"dataframe\">\n",
       "  <thead>\n",
       "    <tr style=\"text-align: right;\">\n",
       "      <th></th>\n",
       "      <th>STORE_ID</th>\n",
       "      <th>FAMILY_DESC</th>\n",
       "      <th>YEAR</th>\n",
       "      <th>MONTH</th>\n",
       "      <th>SALES_UNITS</th>\n",
       "      <th>SALES_TESP</th>\n",
       "      <th>SALES_TISP</th>\n",
       "      <th>GROSS_MARGIN</th>\n",
       "      <th>SPACE</th>\n",
       "      <th>NDSA</th>\n",
       "      <th>TXNS</th>\n",
       "      <th>FORMAT</th>\n",
       "      <th>SUMOFPOPULATION</th>\n",
       "      <th>TOTAL_SPACE</th>\n",
       "      <th>TOTAL_TISP</th>\n",
       "      <th>Region</th>\n",
       "      <th>Average Price</th>\n",
       "      <th>Space Yield</th>\n",
       "      <th>NDSA Yield</th>\n",
       "    </tr>\n",
       "  </thead>\n",
       "  <tbody>\n",
       "    <tr>\n",
       "      <th>0</th>\n",
       "      <td>10</td>\n",
       "      <td>Basic Sun Preparations</td>\n",
       "      <td>2007</td>\n",
       "      <td>2</td>\n",
       "      <td>276</td>\n",
       "      <td>1154.37</td>\n",
       "      <td>1356.44</td>\n",
       "      <td>592.81</td>\n",
       "      <td>18</td>\n",
       "      <td>777</td>\n",
       "      <td>68936</td>\n",
       "      <td>Convenience</td>\n",
       "      <td>525825</td>\n",
       "      <td>442.0</td>\n",
       "      <td>94679.84</td>\n",
       "      <td>Mid-Atlantic</td>\n",
       "      <td>4.914638</td>\n",
       "      <td>75.357778</td>\n",
       "      <td>1.745740</td>\n",
       "    </tr>\n",
       "    <tr>\n",
       "      <th>1</th>\n",
       "      <td>10</td>\n",
       "      <td>Basic Sun Preparations</td>\n",
       "      <td>2007</td>\n",
       "      <td>3</td>\n",
       "      <td>268</td>\n",
       "      <td>1074.10</td>\n",
       "      <td>1262.13</td>\n",
       "      <td>517.88</td>\n",
       "      <td>18</td>\n",
       "      <td>777</td>\n",
       "      <td>68936</td>\n",
       "      <td>Convenience</td>\n",
       "      <td>525825</td>\n",
       "      <td>442.0</td>\n",
       "      <td>94679.84</td>\n",
       "      <td>Mid-Atlantic</td>\n",
       "      <td>4.709440</td>\n",
       "      <td>70.118333</td>\n",
       "      <td>1.624363</td>\n",
       "    </tr>\n",
       "    <tr>\n",
       "      <th>2</th>\n",
       "      <td>10</td>\n",
       "      <td>Basic Sun Preparations</td>\n",
       "      <td>2007</td>\n",
       "      <td>4</td>\n",
       "      <td>310</td>\n",
       "      <td>1205.60</td>\n",
       "      <td>1416.68</td>\n",
       "      <td>597.74</td>\n",
       "      <td>18</td>\n",
       "      <td>777</td>\n",
       "      <td>68936</td>\n",
       "      <td>Convenience</td>\n",
       "      <td>525825</td>\n",
       "      <td>442.0</td>\n",
       "      <td>94679.84</td>\n",
       "      <td>Mid-Atlantic</td>\n",
       "      <td>4.569935</td>\n",
       "      <td>78.704444</td>\n",
       "      <td>1.823269</td>\n",
       "    </tr>\n",
       "    <tr>\n",
       "      <th>3</th>\n",
       "      <td>10</td>\n",
       "      <td>Basic Sun Preparations</td>\n",
       "      <td>2007</td>\n",
       "      <td>1</td>\n",
       "      <td>299</td>\n",
       "      <td>1253.21</td>\n",
       "      <td>1472.53</td>\n",
       "      <td>679.61</td>\n",
       "      <td>18</td>\n",
       "      <td>777</td>\n",
       "      <td>68936</td>\n",
       "      <td>Convenience</td>\n",
       "      <td>525825</td>\n",
       "      <td>442.0</td>\n",
       "      <td>94679.84</td>\n",
       "      <td>Mid-Atlantic</td>\n",
       "      <td>4.924849</td>\n",
       "      <td>81.807222</td>\n",
       "      <td>1.895148</td>\n",
       "    </tr>\n",
       "    <tr>\n",
       "      <th>4</th>\n",
       "      <td>10</td>\n",
       "      <td>Basic Sun Preparations</td>\n",
       "      <td>2007</td>\n",
       "      <td>6</td>\n",
       "      <td>714</td>\n",
       "      <td>2820.43</td>\n",
       "      <td>3314.06</td>\n",
       "      <td>1306.18</td>\n",
       "      <td>18</td>\n",
       "      <td>777</td>\n",
       "      <td>68936</td>\n",
       "      <td>Convenience</td>\n",
       "      <td>525825</td>\n",
       "      <td>442.0</td>\n",
       "      <td>94679.84</td>\n",
       "      <td>Mid-Atlantic</td>\n",
       "      <td>4.641541</td>\n",
       "      <td>184.114444</td>\n",
       "      <td>4.265199</td>\n",
       "    </tr>\n",
       "  </tbody>\n",
       "</table>\n",
       "</div>"
      ],
      "text/plain": [
       "   STORE_ID             FAMILY_DESC  YEAR  MONTH  SALES_UNITS  SALES_TESP  \\\n",
       "0        10  Basic Sun Preparations  2007      2          276     1154.37   \n",
       "1        10  Basic Sun Preparations  2007      3          268     1074.10   \n",
       "2        10  Basic Sun Preparations  2007      4          310     1205.60   \n",
       "3        10  Basic Sun Preparations  2007      1          299     1253.21   \n",
       "4        10  Basic Sun Preparations  2007      6          714     2820.43   \n",
       "\n",
       "   SALES_TISP  GROSS_MARGIN  SPACE  NDSA   TXNS       FORMAT  SUMOFPOPULATION  \\\n",
       "0     1356.44        592.81     18   777  68936  Convenience           525825   \n",
       "1     1262.13        517.88     18   777  68936  Convenience           525825   \n",
       "2     1416.68        597.74     18   777  68936  Convenience           525825   \n",
       "3     1472.53        679.61     18   777  68936  Convenience           525825   \n",
       "4     3314.06       1306.18     18   777  68936  Convenience           525825   \n",
       "\n",
       "   TOTAL_SPACE  TOTAL_TISP        Region  Average Price  Space Yield  \\\n",
       "0        442.0    94679.84  Mid-Atlantic       4.914638    75.357778   \n",
       "1        442.0    94679.84  Mid-Atlantic       4.709440    70.118333   \n",
       "2        442.0    94679.84  Mid-Atlantic       4.569935    78.704444   \n",
       "3        442.0    94679.84  Mid-Atlantic       4.924849    81.807222   \n",
       "4        442.0    94679.84  Mid-Atlantic       4.641541   184.114444   \n",
       "\n",
       "   NDSA Yield  \n",
       "0    1.745740  \n",
       "1    1.624363  \n",
       "2    1.823269  \n",
       "3    1.895148  \n",
       "4    4.265199  "
      ]
     },
     "execution_count": 10,
     "metadata": {},
     "output_type": "execute_result"
    }
   ],
   "source": [
    "data.head()"
   ]
  },
  {
   "cell_type": "markdown",
   "metadata": {},
   "source": [
    " "
   ]
  },
  {
   "cell_type": "markdown",
   "metadata": {},
   "source": [
    "__The total sales for each format by month:__"
   ]
  },
  {
   "cell_type": "code",
   "execution_count": 1,
   "metadata": {
    "scrolled": false
   },
   "outputs": [],
   "source": [
    "#list(data.groupby(data['MONTH']))"
   ]
  },
  {
   "cell_type": "markdown",
   "metadata": {},
   "source": [
    " "
   ]
  },
  {
   "cell_type": "markdown",
   "metadata": {},
   "source": [
    "### Visualization:"
   ]
  },
  {
   "cell_type": "markdown",
   "metadata": {},
   "source": [
    "__A histogram for shelf space usage__"
   ]
  },
  {
   "cell_type": "code",
   "execution_count": 12,
   "metadata": {},
   "outputs": [
    {
     "data": {
      "text/plain": [
       "Text(0.5, 0, 'shelf Number')"
      ]
     },
     "execution_count": 12,
     "metadata": {},
     "output_type": "execute_result"
    },
    {
     "data": {
      "image/png": "[encoded data removed]",
      "text/plain": [
       "<Figure size 432x288 with 1 Axes>"
      ]
     },
     "metadata": {
      "needs_background": "light"
     },
     "output_type": "display_data"
    }
   ],
   "source": [
    "plt.hist(data['SPACE'], density=False)\n",
    "plt.ylabel('shelf space usage')\n",
    "plt.xlabel('shelf Number')"
   ]
  },
  {
   "cell_type": "markdown",
   "metadata": {},
   "source": [
    " "
   ]
  },
  {
   "cell_type": "markdown",
   "metadata": {},
   "source": [
    "__A scatter plot for Sales (SALES_TISP) vs. Shelf Space (SPACE)__"
   ]
  },
  {
   "cell_type": "code",
   "execution_count": 13,
   "metadata": {},
   "outputs": [
    {
     "data": {
      "image/png": "[encoded data removed]",
      "text/plain": [
       "<Figure size 432x288 with 1 Axes>"
      ]
     },
     "metadata": {
      "needs_background": "light"
     },
     "output_type": "display_data"
    }
   ],
   "source": [
    "#Sales (SALES_TISP) vs. Shelf Space (SPACE)\n",
    "x = data['SALES_TISP']\n",
    "y = data['SPACE']\n",
    "N = len(data['SPACE'])\n",
    "colors = np.random.rand(N)\n",
    "plt.scatter(x, y, c=colors)\n",
    "plt.show()"
   ]
  },
  {
   "cell_type": "code",
   "execution_count": null,
   "metadata": {},
   "outputs": [],
   "source": [
    " "
   ]
  },
  {
   "cell_type": "markdown",
   "metadata": {},
   "source": [
    "### Machine Learning:\n"
   ]
  },
  {
   "cell_type": "markdown",
   "metadata": {},
   "source": [
    "__A model to predict store sales (Sales_Tisp)__"
   ]
  },
  {
   "cell_type": "code",
   "execution_count": 14,
   "metadata": {},
   "outputs": [],
   "source": [
    "from sklearn.linear_model import LinearRegression\n",
    "from sklearn.ensemble import RandomForestRegressor\n",
    "from sklearn.metrics import mean_squared_error\n",
    "from sklearn.model_selection import train_test_split"
   ]
  },
  {
   "cell_type": "code",
   "execution_count": 15,
   "metadata": {},
   "outputs": [
    {
     "data": {
      "text/html": [
       "<div>\n",
       "<style scoped>\n",
       "    .dataframe tbody tr th:only-of-type {\n",
       "        vertical-align: middle;\n",
       "    }\n",
       "\n",
       "    .dataframe tbody tr th {\n",
       "        vertical-align: top;\n",
       "    }\n",
       "\n",
       "    .dataframe thead th {\n",
       "        text-align: right;\n",
       "    }\n",
       "</style>\n",
       "<table border=\"1\" class=\"dataframe\">\n",
       "  <thead>\n",
       "    <tr style=\"text-align: right;\">\n",
       "      <th></th>\n",
       "      <th>STORE_ID</th>\n",
       "      <th>FAMILY_DESC</th>\n",
       "      <th>YEAR</th>\n",
       "      <th>MONTH</th>\n",
       "      <th>SALES_UNITS</th>\n",
       "      <th>SALES_TESP</th>\n",
       "      <th>SALES_TISP</th>\n",
       "      <th>GROSS_MARGIN</th>\n",
       "      <th>SPACE</th>\n",
       "      <th>NDSA</th>\n",
       "      <th>TXNS</th>\n",
       "      <th>FORMAT</th>\n",
       "      <th>SUMOFPOPULATION</th>\n",
       "      <th>TOTAL_SPACE</th>\n",
       "      <th>TOTAL_TISP</th>\n",
       "      <th>Region</th>\n",
       "      <th>Average Price</th>\n",
       "      <th>Space Yield</th>\n",
       "      <th>NDSA Yield</th>\n",
       "    </tr>\n",
       "  </thead>\n",
       "  <tbody>\n",
       "    <tr>\n",
       "      <th>0</th>\n",
       "      <td>10</td>\n",
       "      <td>Basic Sun Preparations</td>\n",
       "      <td>2007</td>\n",
       "      <td>2</td>\n",
       "      <td>276</td>\n",
       "      <td>1154.37</td>\n",
       "      <td>1356.44</td>\n",
       "      <td>592.81</td>\n",
       "      <td>18</td>\n",
       "      <td>777</td>\n",
       "      <td>68936</td>\n",
       "      <td>Convenience</td>\n",
       "      <td>525825</td>\n",
       "      <td>442.0</td>\n",
       "      <td>94679.84</td>\n",
       "      <td>Mid-Atlantic</td>\n",
       "      <td>4.914638</td>\n",
       "      <td>75.357778</td>\n",
       "      <td>1.745740</td>\n",
       "    </tr>\n",
       "    <tr>\n",
       "      <th>1</th>\n",
       "      <td>10</td>\n",
       "      <td>Basic Sun Preparations</td>\n",
       "      <td>2007</td>\n",
       "      <td>3</td>\n",
       "      <td>268</td>\n",
       "      <td>1074.10</td>\n",
       "      <td>1262.13</td>\n",
       "      <td>517.88</td>\n",
       "      <td>18</td>\n",
       "      <td>777</td>\n",
       "      <td>68936</td>\n",
       "      <td>Convenience</td>\n",
       "      <td>525825</td>\n",
       "      <td>442.0</td>\n",
       "      <td>94679.84</td>\n",
       "      <td>Mid-Atlantic</td>\n",
       "      <td>4.709440</td>\n",
       "      <td>70.118333</td>\n",
       "      <td>1.624363</td>\n",
       "    </tr>\n",
       "    <tr>\n",
       "      <th>2</th>\n",
       "      <td>10</td>\n",
       "      <td>Basic Sun Preparations</td>\n",
       "      <td>2007</td>\n",
       "      <td>4</td>\n",
       "      <td>310</td>\n",
       "      <td>1205.60</td>\n",
       "      <td>1416.68</td>\n",
       "      <td>597.74</td>\n",
       "      <td>18</td>\n",
       "      <td>777</td>\n",
       "      <td>68936</td>\n",
       "      <td>Convenience</td>\n",
       "      <td>525825</td>\n",
       "      <td>442.0</td>\n",
       "      <td>94679.84</td>\n",
       "      <td>Mid-Atlantic</td>\n",
       "      <td>4.569935</td>\n",
       "      <td>78.704444</td>\n",
       "      <td>1.823269</td>\n",
       "    </tr>\n",
       "    <tr>\n",
       "      <th>3</th>\n",
       "      <td>10</td>\n",
       "      <td>Basic Sun Preparations</td>\n",
       "      <td>2007</td>\n",
       "      <td>1</td>\n",
       "      <td>299</td>\n",
       "      <td>1253.21</td>\n",
       "      <td>1472.53</td>\n",
       "      <td>679.61</td>\n",
       "      <td>18</td>\n",
       "      <td>777</td>\n",
       "      <td>68936</td>\n",
       "      <td>Convenience</td>\n",
       "      <td>525825</td>\n",
       "      <td>442.0</td>\n",
       "      <td>94679.84</td>\n",
       "      <td>Mid-Atlantic</td>\n",
       "      <td>4.924849</td>\n",
       "      <td>81.807222</td>\n",
       "      <td>1.895148</td>\n",
       "    </tr>\n",
       "    <tr>\n",
       "      <th>4</th>\n",
       "      <td>10</td>\n",
       "      <td>Basic Sun Preparations</td>\n",
       "      <td>2007</td>\n",
       "      <td>6</td>\n",
       "      <td>714</td>\n",
       "      <td>2820.43</td>\n",
       "      <td>3314.06</td>\n",
       "      <td>1306.18</td>\n",
       "      <td>18</td>\n",
       "      <td>777</td>\n",
       "      <td>68936</td>\n",
       "      <td>Convenience</td>\n",
       "      <td>525825</td>\n",
       "      <td>442.0</td>\n",
       "      <td>94679.84</td>\n",
       "      <td>Mid-Atlantic</td>\n",
       "      <td>4.641541</td>\n",
       "      <td>184.114444</td>\n",
       "      <td>4.265199</td>\n",
       "    </tr>\n",
       "  </tbody>\n",
       "</table>\n",
       "</div>"
      ],
      "text/plain": [
       "   STORE_ID             FAMILY_DESC  YEAR  MONTH  SALES_UNITS  SALES_TESP  \\\n",
       "0        10  Basic Sun Preparations  2007      2          276     1154.37   \n",
       "1        10  Basic Sun Preparations  2007      3          268     1074.10   \n",
       "2        10  Basic Sun Preparations  2007      4          310     1205.60   \n",
       "3        10  Basic Sun Preparations  2007      1          299     1253.21   \n",
       "4        10  Basic Sun Preparations  2007      6          714     2820.43   \n",
       "\n",
       "   SALES_TISP  GROSS_MARGIN  SPACE  NDSA   TXNS       FORMAT  SUMOFPOPULATION  \\\n",
       "0     1356.44        592.81     18   777  68936  Convenience           525825   \n",
       "1     1262.13        517.88     18   777  68936  Convenience           525825   \n",
       "2     1416.68        597.74     18   777  68936  Convenience           525825   \n",
       "3     1472.53        679.61     18   777  68936  Convenience           525825   \n",
       "4     3314.06       1306.18     18   777  68936  Convenience           525825   \n",
       "\n",
       "   TOTAL_SPACE  TOTAL_TISP        Region  Average Price  Space Yield  \\\n",
       "0        442.0    94679.84  Mid-Atlantic       4.914638    75.357778   \n",
       "1        442.0    94679.84  Mid-Atlantic       4.709440    70.118333   \n",
       "2        442.0    94679.84  Mid-Atlantic       4.569935    78.704444   \n",
       "3        442.0    94679.84  Mid-Atlantic       4.924849    81.807222   \n",
       "4        442.0    94679.84  Mid-Atlantic       4.641541   184.114444   \n",
       "\n",
       "   NDSA Yield  \n",
       "0    1.745740  \n",
       "1    1.624363  \n",
       "2    1.823269  \n",
       "3    1.895148  \n",
       "4    4.265199  "
      ]
     },
     "execution_count": 15,
     "metadata": {},
     "output_type": "execute_result"
    }
   ],
   "source": [
    "data.head()"
   ]
  },
  {
   "cell_type": "markdown",
   "metadata": {},
   "source": [
    " "
   ]
  },
  {
   "cell_type": "markdown",
   "metadata": {},
   "source": [
    "#### Converting Categorical data into values:\n"
   ]
  },
  {
   "cell_type": "code",
   "execution_count": 16,
   "metadata": {},
   "outputs": [],
   "source": [
    "df = pd.get_dummies(data['Region']) \n",
    "data=pd.concat([data,df], axis=1)"
   ]
  },
  {
   "cell_type": "markdown",
   "metadata": {},
   "source": [
    " "
   ]
  },
  {
   "cell_type": "code",
   "execution_count": 17,
   "metadata": {},
   "outputs": [],
   "source": [
    "y = data['SALES_TISP'] #Dependent Variables\n",
    "x = data.drop(['SALES_TISP','FAMILY_DESC','FORMAT','Region'],axis=1) ## Independent Variables (Dropping unnecessary columns)"
   ]
  },
  {
   "cell_type": "markdown",
   "metadata": {},
   "source": [
    " "
   ]
  },
  {
   "cell_type": "markdown",
   "metadata": {},
   "source": [
    "__Spliting data into training & testing for validation:__"
   ]
  },
  {
   "cell_type": "code",
   "execution_count": 18,
   "metadata": {},
   "outputs": [],
   "source": [
    "train_x, test_x, train_Y, test_Y = train_test_split(x, y, test_size=0.2, random_state=42)"
   ]
  },
  {
   "cell_type": "markdown",
   "metadata": {},
   "source": [
    " "
   ]
  },
  {
   "cell_type": "markdown",
   "metadata": {},
   "source": [
    "__Function to calculate RMSE value:__"
   ]
  },
  {
   "cell_type": "code",
   "execution_count": 19,
   "metadata": {},
   "outputs": [],
   "source": [
    "def rmse(predictions, targets):\n",
    "    return np.sqrt(((predictions - targets) ** 2).mean())"
   ]
  },
  {
   "cell_type": "markdown",
   "metadata": {},
   "source": [
    " "
   ]
  },
  {
   "cell_type": "markdown",
   "metadata": {},
   "source": [
    "__Linear Regression Algorithm:__"
   ]
  },
  {
   "cell_type": "code",
   "execution_count": 20,
   "metadata": {},
   "outputs": [
    {
     "name": "stdout",
     "output_type": "stream",
     "text": [
      "**************** LinearRegression Model ****************\n",
      "\n",
      "Model Score:  0.9999999967548227\n",
      "\n",
      "RMSE value for LinearRegression Model :  0.05283454979629389\n"
     ]
    }
   ],
   "source": [
    "print(\"**************** LinearRegression Model ****************\")\n",
    "reg = LinearRegression()               #Model\n",
    "reg.fit(train_x, train_Y)              #Data fitting into the model\n",
    "\n",
    "predicted_L = reg.predict(test_x)      #Predicting the values\n",
    "\n",
    "print('\\nModel Score: ',reg.score(test_x, test_Y)) #Calculating Model score \n",
    "\n",
    "print('\\nRMSE value for LinearRegression Model : ',  rmse(predicted_L, test_Y)) #Calculating RMSE score of the model\n"
   ]
  },
  {
   "cell_type": "markdown",
   "metadata": {},
   "source": [
    " "
   ]
  },
  {
   "cell_type": "markdown",
   "metadata": {},
   "source": [
    "__Random Forest Algorithm:__"
   ]
  },
  {
   "cell_type": "code",
   "execution_count": 21,
   "metadata": {},
   "outputs": [
    {
     "name": "stdout",
     "output_type": "stream",
     "text": [
      "**************** Random Forest Model ****************\n",
      "\n",
      "Model Score:  0.93204819283768\n",
      "\n",
      "RMSE value for Random Forest Model :  241.7682680814229\n"
     ]
    }
   ],
   "source": [
    "print(\"**************** Random Forest Model ****************\")\n",
    "regr_R = RandomForestRegressor(max_depth=2, random_state=0)   #Model\n",
    "\n",
    "regr_R.fit(train_x, train_Y)                                  #Data fitting into the model\n",
    "\n",
    "predicted_R = regr_R.predict(test_x)                         #Predicting the values\n",
    "\n",
    "print('\\nModel Score: ',regr_R.score(test_x, test_Y))         #Calculating Model score\n",
    "print('\\nRMSE value for Random Forest Model : ', rmse(predicted_R, test_Y)) #Calculating RMSE score of the model"
   ]
  },
  {
   "cell_type": "markdown",
   "metadata": {},
   "source": [
    " "
   ]
  },
  {
   "cell_type": "markdown",
   "metadata": {},
   "source": [
    "__Author: Pranav Khiste<br>\n",
    "Northeastern University<br>\n",
    "https://github.com/pranav0904__<br>"
   ]
  }
 ],
 "metadata": {
  "kernelspec": {
   "display_name": "Python 3",
   "language": "python",
   "name": "python3"
  },
  "language_info": {
   "codemirror_mode": {
    "name": "ipython",
    "version": 3
   },
   "file_extension": ".py",
   "mimetype": "text/x-python",
   "name": "python",
   "nbconvert_exporter": "python",
   "pygments_lexer": "ipython3",
   "version": "3.8.3"
  }
 },
 "nbformat": 4,
 "nbformat_minor": 4
}
